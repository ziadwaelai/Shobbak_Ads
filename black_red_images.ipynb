{
 "cells": [
  {
   "cell_type": "code",
   "execution_count": 13,
   "metadata": {},
   "outputs": [
    {
     "name": "stdout",
     "output_type": "stream",
     "text": [
      "43.78176499670402\n",
      "The image is predominantly black.\n"
     ]
    }
   ],
   "source": [
    "import cv2\n",
    "import numpy as np\n",
    "\n",
    "def is_black_image(image, black_threshold=50):\n",
    "    # Convert the image to grayscale\n",
    "    gray = cv2.cvtColor(image, cv2.COLOR_BGR2GRAY)\n",
    "    # Calculate the average pixel intensity\n",
    "    avg_intensity = np.mean(gray)\n",
    "    # Check if the image is predominantly black\n",
    "    print(avg_intensity)\n",
    "    return avg_intensity < black_threshold\n",
    "\n",
    "def is_red_image(image, red_threshold=0.1):\n",
    "    # Convert the image to HSV color space\n",
    "    hsv = cv2.cvtColor(image, cv2.COLOR_BGR2HSV)\n",
    "    # Define the red color range in HSV\n",
    "    lower_red1 = np.array([0, 120, 70])\n",
    "    upper_red1 = np.array([10, 255, 255])\n",
    "    lower_red2 = np.array([170, 120, 70])\n",
    "    upper_red2 = np.array([180, 255, 255])\n",
    "    \n",
    "    # Create masks for red color\n",
    "    mask1 = cv2.inRange(hsv, lower_red1, upper_red1)\n",
    "    mask2 = cv2.inRange(hsv, lower_red2, upper_red2)\n",
    "    red_mask = mask1 + mask2\n",
    "\n",
    "    # Calculate the percentage of red pixels\n",
    "    red_ratio = np.sum(red_mask > 0) / (image.shape[0] * image.shape[1])\n",
    "\n",
    "    # Check if the image contains a significant amount of red\n",
    "    print(red_ratio)\n",
    "    return red_ratio > red_threshold\n",
    "\n",
    "def main(image_path):\n",
    "    # Load the image\n",
    "    image = cv2.imread(image_path)\n",
    "\n",
    "    if is_black_image(image):\n",
    "        print(\"The image is predominantly black.\")\n",
    "    elif is_red_image(image):\n",
    "        print(\"The image is predominantly red.\")\n",
    "    else:\n",
    "        print(\"The image is neither predominantly black nor red.\")\n",
    "\n",
    "# Example usage\n",
    "image_path = \"red.jpeg\"  # Replace with your image path\n",
    "main(image_path)"
   ]
  },
  {
   "cell_type": "code",
   "execution_count": null,
   "metadata": {},
   "outputs": [
    {
     "name": "stdout",
     "output_type": "stream",
     "text": [
      "The image is neither predominantly black nor red.\n"
     ]
    }
   ],
   "source": [
    "import cv2\n",
    "import numpy as np\n",
    "\n",
    "def is_black_image(image, black_threshold=30):\n",
    "    gray = cv2.cvtColor(image, cv2.COLOR_BGR2GRAY)\n",
    "    avg_intensity = np.mean(gray)\n",
    "    return avg_intensity < black_threshold\n",
    "\n",
    "def is_red_image(image, red_threshold=0.3):\n",
    "    hsv = cv2.cvtColor(image, cv2.COLOR_BGR2HSV)\n",
    "    lower_red1 = np.array([0, 50, 50])\n",
    "    upper_red1 = np.array([10, 255, 255])\n",
    "    lower_red2 = np.array([170, 50, 50])\n",
    "    upper_red2 = np.array([180, 255, 255])\n",
    "\n",
    "    mask1 = cv2.inRange(hsv, lower_red1, upper_red1)\n",
    "    mask2 = cv2.inRange(hsv, lower_red2, upper_red2)\n",
    "    red_mask = mask1 + mask2\n",
    "    red_ratio = np.sum(red_mask > 0) / (image.shape[0] * image.shape[1])\n",
    "    return red_ratio > red_threshold\n",
    "\n",
    "def main(image_path):\n",
    "    image = cv2.imread(image_path)\n",
    "    if is_black_image(image):\n",
    "        print(\"The image is predominantly black.\")\n",
    "    elif is_red_image(image):\n",
    "        print(\"The image is predominantly red.\")\n",
    "    else:\n",
    "        print(\"The image is neither predominantly black nor red.\")\n",
    "\n",
    "# Test with your uploaded image\n",
    "image_path = \"red_ideal.jpeg\"  # Replace with your image path\n",
    "image_path = \"iphone.jpg\"  # Replace with your image path\n",
    "\n",
    "\n",
    "main(image_path)\n"
   ]
  },
  {
   "cell_type": "code",
   "execution_count": 22,
   "metadata": {},
   "outputs": [
    {
     "name": "stdout",
     "output_type": "stream",
     "text": [
      "The image has a watermark.\n"
     ]
    }
   ],
   "source": [
    "def has_watermark(image, threshold=0.1):\n",
    "    gray = cv2.cvtColor(image, cv2.COLOR_BGR2GRAY)\n",
    "    edges = cv2.Canny(gray, 50, 150)\n",
    "\n",
    "    # Check if there's a consistent pattern of edges in one area (indicating watermark)\n",
    "    edge_ratio = np.sum(edges > 0) / (edges.shape[0] * edges.shape[1])\n",
    "    return edge_ratio > threshold\n",
    "\n",
    "def main(image_path):\n",
    "    image = cv2.imread(image_path)\n",
    "    if has_watermark(image):\n",
    "        print(\"The image has a watermark.\")\n",
    "    else:\n",
    "        print(\"The image does not have a watermark.\")\n",
    "\n",
    "# Test with your uploaded image\n",
    "image_path = \"archive/wm-nowm/valid/no-watermark/woods-landscape-road-loyalsock-state-forest-163703.jpeg\"  # Replace with your image path\n",
    "main(image_path)"
   ]
  },
  {
   "cell_type": "code",
   "execution_count": null,
   "metadata": {},
   "outputs": [],
   "source": []
  }
 ],
 "metadata": {
  "kernelspec": {
   "display_name": "Python 3",
   "language": "python",
   "name": "python3"
  },
  "language_info": {
   "codemirror_mode": {
    "name": "ipython",
    "version": 3
   },
   "file_extension": ".py",
   "mimetype": "text/x-python",
   "name": "python",
   "nbconvert_exporter": "python",
   "pygments_lexer": "ipython3",
   "version": "3.12.7"
  }
 },
 "nbformat": 4,
 "nbformat_minor": 2
}
