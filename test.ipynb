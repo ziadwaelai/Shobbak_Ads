{
 "cells": [
  {
   "cell_type": "code",
   "execution_count": 2,
   "metadata": {},
   "outputs": [
    {
     "name": "stderr",
     "output_type": "stream",
     "text": [
      "c:\\Users\\ziad.abdlhamed\\AppData\\Local\\Programs\\Python\\Python312\\Lib\\site-packages\\sentence_transformers\\cross_encoder\\CrossEncoder.py:13: TqdmWarning: IProgress not found. Please update jupyter and ipywidgets. See https://ipywidgets.readthedocs.io/en/stable/user_install.html\n",
      "  from tqdm.autonotebook import tqdm, trange\n"
     ]
    },
    {
     "name": "stdout",
     "output_type": "stream",
     "text": [
      "WARNING:tensorflow:From c:\\Users\\ziad.abdlhamed\\AppData\\Local\\Programs\\Python\\Python312\\Lib\\site-packages\\tf_keras\\src\\losses.py:2976: The name tf.losses.sparse_softmax_cross_entropy is deprecated. Please use tf.compat.v1.losses.sparse_softmax_cross_entropy instead.\n",
      "\n"
     ]
    }
   ],
   "source": [
    "from sentence_transformers import SentenceTransformer, util\n",
    "from PIL import Image\n",
    "from tqdm.autonotebook import tqdm, trange\n",
    "#Load CLIP model\n",
    "model = SentenceTransformer('clip-ViT-B-32')"
   ]
  },
  {
   "cell_type": "code",
   "execution_count": 34,
   "metadata": {},
   "outputs": [
    {
     "name": "stdout",
     "output_type": "stream",
     "text": [
      "[0.32, 0.3, 0.18]\n"
     ]
    }
   ],
   "source": [
    "img_emb = model.encode(Image.open('dodge-تشارجر-rt-موديل-1971-322239349-8956680.jpg'))\n",
    "\n",
    "#Encode text descriptions\n",
    "text_emb = model.encode(['1971 Dodge Charger RT', 'Dodge Charger Modular 1971 for sale on sale','copyrighted'])\n",
    "\n",
    "#Compute cosine similarities \n",
    "cos_scores = util.cos_sim(img_emb, text_emb)[0].tolist()\n",
    "\n",
    "cos_scores = [round(score, 2) for score in cos_scores]\n",
    "print(cos_scores)"
   ]
  },
  {
   "cell_type": "code",
   "execution_count": 28,
   "metadata": {},
   "outputs": [
    {
     "name": "stdout",
     "output_type": "stream",
     "text": [
      "[0.25, 0.27]\n"
     ]
    }
   ],
   "source": [
    "img_emb = model.encode(Image.open('جوال-يفون-بحالة-ممتازة-للبيع-45876761-8956580.jpg'))\n",
    "\n",
    "#Encode text descriptions\n",
    "text_emb = model.encode(['iPhone in excellent condition for sale', 'iPhone in very clean condition, excellent performance and good battery life. High definition camera and elegant design. Suitable for all daily uses.'])\n",
    "\n",
    "#Compute cosine similarities \n",
    "cos_scores = util.cos_sim(img_emb, text_emb)[0].tolist()\n",
    "\n",
    "cos_scores = [round(score, 2) for score in cos_scores]\n",
    "\n",
    "print(cos_scores)"
   ]
  },
  {
   "cell_type": "code",
   "execution_count": 32,
   "metadata": {},
   "outputs": [
    {
     "name": "stdout",
     "output_type": "stream",
     "text": [
      "[0.27, 0.29]\n"
     ]
    }
   ],
   "source": [
    "img_emb = model.encode(Image.open('قطط-للبيع-995610866-8956723.jpg'))\n",
    "\n",
    "#Encode text descriptions\n",
    "text_emb = model.encode(['Cats for sale', 'Two male kittens, each for 500. The type is all Himalayan Shirazi. The health is healthy and unvaccinated due to their young age. They are two months old. They are educated on the litter box. They eat everything.'])\n",
    "\n",
    "#Compute cosine similarities \n",
    "cos_scores = util.cos_sim(img_emb, text_emb)[0].tolist()\n",
    "\n",
    "cos_scores = [round(score, 2) for score in cos_scores]\n",
    "\n",
    "print(cos_scores)"
   ]
  },
  {
   "cell_type": "code",
   "execution_count": 33,
   "metadata": {},
   "outputs": [
    {
     "name": "stdout",
     "output_type": "stream",
     "text": [
      "[0.22, 0.2]\n"
     ]
    }
   ],
   "source": [
    "img_emb = model.encode(Image.open('قطط-للبيع-995610866-8956723.jpg'))\n",
    "\n",
    "#Encode text descriptions\n",
    "text_emb = model.encode(['قطط للبيع', 'كيتنز اثنين ذكور الواحد ب 500 النوع كلهم هملايا شيرازي الصحه سليمين غير مطعمين لصغر سنهم'])\n",
    "\n",
    "#Compute cosine similarities \n",
    "cos_scores = util.cos_sim(img_emb, text_emb)[0].tolist()\n",
    "\n",
    "# round the cosine similarity scores to 2 decimal places\n",
    "cos_scores = [round(score, 2) for score in cos_scores]\n",
    "print(cos_scores)"
   ]
  },
  {
   "cell_type": "code",
   "execution_count": 33,
   "metadata": {},
   "outputs": [
    {
     "name": "stdout",
     "output_type": "stream",
     "text": [
      "No watermark detected with similarity score 0.26\n"
     ]
    }
   ],
   "source": [
    "from sentence_transformers import SentenceTransformer, util\n",
    "from PIL import Image\n",
    "\n",
    "# Load the CLIP model via Sentence-Transformers\n",
    "model = SentenceTransformer('clip-ViT-B-32')\n",
    "\n",
    "# Function to detect watermark by comparing with descriptive text\n",
    "def detect_watermark(image_path):\n",
    "    # Load and encode the image\n",
    "    image = Image.open(image_path)\n",
    "    image_embedding = model.encode(image, convert_to_tensor=True)\n",
    "\n",
    "    # Encode descriptive texts\n",
    "    descriptions = [\"image has wepoins drages\", \"winter\"]\n",
    "    text_embeddings = model.encode(descriptions, convert_to_tensor=True)\n",
    "\n",
    "    # Calculate similarity between the image and each description\n",
    "    similarities = util.cos_sim(image_embedding, text_embeddings)\n",
    "    watermark_prob = similarities[0][0].item()  # Similarity with \"watermarked image\"\n",
    "    non_watermark_prob = similarities[0][1].item()  # Similarity with \"non-watermarked image\"\n",
    "\n",
    "    # Determine result based on higher similarity\n",
    "    if watermark_prob > non_watermark_prob:\n",
    "        return f\"Watermark detected with similarity score {watermark_prob:.2f}\"\n",
    "    else:\n",
    "        return f\"No watermark detected with similarity score {non_watermark_prob:.2f}\"\n",
    "\n",
    "# Example usage\n",
    "print(detect_watermark(\"archive/wm-nowm/train/no-watermark/winter-frost-fog-road-735787.jpeg\"))\n"
   ]
  },
  {
   "cell_type": "code",
   "execution_count": 34,
   "metadata": {},
   "outputs": [
    {
     "name": "stdout",
     "output_type": "stream",
     "text": [
      "Watermark detected with similarity score 0.21\n"
     ]
    }
   ],
   "source": [
    "print(detect_watermark(\"D:/shobbak/AI/webp (1).jpg\"))\n"
   ]
  },
  {
   "cell_type": "code",
   "execution_count": 39,
   "metadata": {},
   "outputs": [
    {
     "name": "stdout",
     "output_type": "stream",
     "text": [
      "[0.21, 0.2]\n"
     ]
    }
   ],
   "source": [
    "img_emb = model.encode(Image.open('archive/wm-nowm/valid/no-watermark/woods-landscape-road-loyalsock-state-forest-163703.jpeg'))\n",
    "\n",
    "#Encode text descriptions\n",
    "text_emb = model.encode(['copyrighted',' watermarked'])\n",
    "\n",
    "#Compute cosine similarities \n",
    "cos_scores = util.cos_sim(img_emb, text_emb)[0].tolist()\n",
    "\n",
    "cos_scores = [round(score, 2) for score in cos_scores]\n",
    "print(cos_scores)"
   ]
  },
  {
   "cell_type": "code",
   "execution_count": null,
   "metadata": {},
   "outputs": [],
   "source": []
  }
 ],
 "metadata": {
  "kernelspec": {
   "display_name": "Python 3",
   "language": "python",
   "name": "python3"
  },
  "language_info": {
   "codemirror_mode": {
    "name": "ipython",
    "version": 3
   },
   "file_extension": ".py",
   "mimetype": "text/x-python",
   "name": "python",
   "nbconvert_exporter": "python",
   "pygments_lexer": "ipython3",
   "version": "3.12.7"
  }
 },
 "nbformat": 4,
 "nbformat_minor": 2
}
